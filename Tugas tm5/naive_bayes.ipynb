{
 "cells": [
  {
   "cell_type": "code",
   "execution_count": 1,
   "id": "300d052c",
   "metadata": {},
   "outputs": [],
   "source": [
    "import numpy as np\n",
    "import matplotlib.pyplot as plt\n",
    "import pandas as pd"
   ]
  },
  {
   "cell_type": "code",
   "execution_count": 2,
   "id": "b7ce31f9",
   "metadata": {
    "scrolled": true
   },
   "outputs": [],
   "source": [
    "dataset = pd.read_csv('country_wise_latest.csv')\n",
    "X = dataset.iloc[:, [2, 3]].values\n",
    "y = dataset.iloc[:, -1].values"
   ]
  },
  {
   "cell_type": "code",
   "execution_count": 3,
   "id": "eaca27a1",
   "metadata": {},
   "outputs": [
    {
     "data": {
      "text/plain": [
       "array(['Eastern Mediterranean', 'Europe', 'Africa', 'Europe', 'Africa',\n",
       "       'Americas', 'Americas', 'Europe', 'Western Pacific', 'Europe',\n",
       "       'Europe', 'Americas', 'Eastern Mediterranean', 'South-East Asia',\n",
       "       'Americas', 'Europe', 'Europe', 'Americas', 'Africa',\n",
       "       'South-East Asia', 'Americas', 'Europe', 'Africa', 'Americas',\n",
       "       'Western Pacific', 'Europe', 'Africa', 'South-East Asia', 'Africa',\n",
       "       'Africa', 'Western Pacific', 'Africa', 'Americas', 'Africa',\n",
       "       'Africa', 'Americas', 'Western Pacific', 'Americas', 'Africa',\n",
       "       'Africa', 'Africa', 'Americas', 'Africa', 'Europe', 'Americas',\n",
       "       'Europe', 'Europe', 'Europe', 'Eastern Mediterranean', 'Americas',\n",
       "       'Americas', 'Americas', 'Eastern Mediterranean', 'Americas',\n",
       "       'Africa', 'Africa', 'Europe', 'Africa', 'Africa',\n",
       "       'Western Pacific', 'Europe', 'Europe', 'Africa', 'Africa',\n",
       "       'Europe', 'Europe', 'Africa', 'Europe', 'Europe', 'Americas',\n",
       "       'Americas', 'Africa', 'Africa', 'Americas', 'Americas', 'Europe',\n",
       "       'Americas', 'Europe', 'Europe', 'South-East Asia',\n",
       "       'South-East Asia', 'Eastern Mediterranean',\n",
       "       'Eastern Mediterranean', 'Europe', 'Europe', 'Europe', 'Americas',\n",
       "       'Western Pacific', 'Eastern Mediterranean', 'Europe', 'Africa',\n",
       "       'Europe', 'Eastern Mediterranean', 'Europe', 'Western Pacific',\n",
       "       'Europe', 'Eastern Mediterranean', 'Africa', 'Africa',\n",
       "       'Eastern Mediterranean', 'Europe', 'Europe', 'Europe', 'Africa',\n",
       "       'Africa', 'Western Pacific', 'South-East Asia', 'Africa', 'Europe',\n",
       "       'Africa', 'Africa', 'Americas', 'Europe', 'Europe',\n",
       "       'Western Pacific', 'Europe', 'Eastern Mediterranean', 'Africa',\n",
       "       'Africa', 'South-East Asia', 'Europe', 'Western Pacific',\n",
       "       'Americas', 'Africa', 'Africa', 'Europe', 'Europe',\n",
       "       'Eastern Mediterranean', 'Eastern Mediterranean', 'Americas',\n",
       "       'Western Pacific', 'Americas', 'Americas', 'Western Pacific',\n",
       "       'Europe', 'Europe', 'Eastern Mediterranean', 'Europe', 'Europe',\n",
       "       'Africa', 'Americas', 'Americas', 'Americas', 'Europe', 'Africa',\n",
       "       'Eastern Mediterranean', 'Africa', 'Europe', 'Africa', 'Africa',\n",
       "       'Western Pacific', 'Europe', 'Europe', 'Eastern Mediterranean',\n",
       "       'Africa', 'Western Pacific', 'Africa', 'Europe', 'South-East Asia',\n",
       "       'Eastern Mediterranean', 'Americas', 'Europe', 'Europe',\n",
       "       'Eastern Mediterranean', 'Western Pacific', 'Europe', 'Africa',\n",
       "       'South-East Asia', 'South-East Asia', 'Africa', 'Americas',\n",
       "       'Eastern Mediterranean', 'Europe', 'Americas', 'Africa', 'Europe',\n",
       "       'Eastern Mediterranean', 'Europe', 'Americas', 'Europe',\n",
       "       'Americas', 'Western Pacific', 'Eastern Mediterranean', 'Africa',\n",
       "       'Eastern Mediterranean', 'Africa', 'Africa'], dtype=object)"
      ]
     },
     "execution_count": 3,
     "metadata": {},
     "output_type": "execute_result"
    }
   ],
   "source": [
    "y"
   ]
  },
  {
   "cell_type": "code",
   "execution_count": 4,
   "id": "3ee5981c",
   "metadata": {},
   "outputs": [
    {
     "data": {
      "text/plain": [
       "array([[   1269,   25198],\n",
       "       [    144,    2745],\n",
       "       [   1163,   18837],\n",
       "       [     52,     803],\n",
       "       [     41,     242],\n",
       "       [      3,      65],\n",
       "       [   3059,   72575],\n",
       "       [    711,   26665],\n",
       "       [    167,    9311],\n",
       "       [    713,   18246],\n",
       "       [    423,   23242],\n",
       "       [     11,      91],\n",
       "       [    141,   36110],\n",
       "       [   2965,  125683],\n",
       "       [      7,      94],\n",
       "       [    538,   60492],\n",
       "       [   9822,   17452],\n",
       "       [      2,      26],\n",
       "       [     35,    1036],\n",
       "       [      0,      86],\n",
       "       [   2647,   21478],\n",
       "       [    294,    4930],\n",
       "       [      2,      63],\n",
       "       [  87618, 1846641],\n",
       "       [      3,     138],\n",
       "       [    347,    5585],\n",
       "       [     53,     926],\n",
       "       [      6,     292],\n",
       "       [      1,     301],\n",
       "       [     22,    1550],\n",
       "       [      0,     147],\n",
       "       [    391,   14539],\n",
       "       [   8944,       0],\n",
       "       [     59,    1546],\n",
       "       [     75,     810],\n",
       "       [   9187,  319954],\n",
       "       [   4656,   78869],\n",
       "       [   8777,  131161],\n",
       "       [      7,     328],\n",
       "       [     54,     829],\n",
       "       [    208,    5700],\n",
       "       [    115,    3824],\n",
       "       [     96,   10361],\n",
       "       [    139,    3936],\n",
       "       [     87,    2351],\n",
       "       [     19,     852],\n",
       "       [    373,   11428],\n",
       "       [    613,   12605],\n",
       "       [     58,    4977],\n",
       "       [      0,      18],\n",
       "       [   1083,   30204],\n",
       "       [   5532,   34896],\n",
       "       [   4652,   34838],\n",
       "       [    408,    7778],\n",
       "       [     51,     842],\n",
       "       [      0,     191],\n",
       "       [     69,    1923],\n",
       "       [     34,    1025],\n",
       "       [    228,    6386],\n",
       "       [      0,      18],\n",
       "       [    329,    6920],\n",
       "       [  30212,   81212],\n",
       "       [     49,    4682],\n",
       "       [      8,      66],\n",
       "       [     16,     922],\n",
       "       [   9125,  190314],\n",
       "       [    168,   29801],\n",
       "       [    202,    1374],\n",
       "       [      0,      13],\n",
       "       [      0,      23],\n",
       "       [   1761,   32455],\n",
       "       [     45,    6257],\n",
       "       [     26,     803],\n",
       "       [     20,     181],\n",
       "       [    158,    4365],\n",
       "       [      0,      12],\n",
       "       [   1166,    5039],\n",
       "       [    596,    3329],\n",
       "       [     10,    1823],\n",
       "       [  33408,  951166],\n",
       "       [   4838,   58173],\n",
       "       [  15912,  255144],\n",
       "       [   4458,   77144],\n",
       "       [   1764,   23364],\n",
       "       [    474,   27133],\n",
       "       [  35112,  198593],\n",
       "       [     10,     714],\n",
       "       [    998,   21970],\n",
       "       [     11,    1041],\n",
       "       [    585,   54404],\n",
       "       [    285,    7833],\n",
       "       [    185,    4027],\n",
       "       [    438,   55057],\n",
       "       [   1301,   21205],\n",
       "       [      0,      19],\n",
       "       [     31,    1045],\n",
       "       [     51,    1709],\n",
       "       [     12,     128],\n",
       "       [     72,     646],\n",
       "       [     64,     577],\n",
       "       [      1,      81],\n",
       "       [     80,    1620],\n",
       "       [    112,    4825],\n",
       "       [     91,    6260],\n",
       "       [     99,    1645],\n",
       "       [    124,    8601],\n",
       "       [     15,    2547],\n",
       "       [    124,    1913],\n",
       "       [      9,     665],\n",
       "       [    156,    4653],\n",
       "       [     10,     332],\n",
       "       [  44022,  303810],\n",
       "       [    748,   16154],\n",
       "       [      4,     104],\n",
       "       [      0,     222],\n",
       "       [     45,     809],\n",
       "       [    316,   16553],\n",
       "       [     11,       0],\n",
       "       [      8,     101],\n",
       "       [     48,   13754],\n",
       "       [   6160,     189],\n",
       "       [     22,    1514],\n",
       "       [    108,    2492],\n",
       "       [     69,    1027],\n",
       "       [    860,   18203],\n",
       "       [    466,    5564],\n",
       "       [    255,    8752],\n",
       "       [    393,   57028],\n",
       "       [   5842,  241026],\n",
       "       [   1322,   35086],\n",
       "       [      0,      11],\n",
       "       [     43,    2905],\n",
       "       [  18418,  272547],\n",
       "       [   1945,   26446],\n",
       "       [   1676,   32856],\n",
       "       [   1719,   35375],\n",
       "       [    165,  106328],\n",
       "       [   2206,   25794],\n",
       "       [  13334,  602249],\n",
       "       [      5,     975],\n",
       "       [      0,      15],\n",
       "       [      0,      22],\n",
       "       [      0,      39],\n",
       "       [     42,     657],\n",
       "       [     14,     734],\n",
       "       [   2760,  222936],\n",
       "       [    194,    6477],\n",
       "       [    543,       0],\n",
       "       [      0,      39],\n",
       "       [     66,    1317],\n",
       "       [     27,   45692],\n",
       "       [     28,    1616],\n",
       "       [    116,    1733],\n",
       "       [     93,    1543],\n",
       "       [   7067,  274925],\n",
       "       [    300,   13007],\n",
       "       [     46,    1175],\n",
       "       [  28432,  150376],\n",
       "       [     11,    2121],\n",
       "       [    720,    5939],\n",
       "       [     24,     925],\n",
       "       [   5700,       0],\n",
       "       [   1978,   30900],\n",
       "       [     40,       0],\n",
       "       [      7,     440],\n",
       "       [     60,    6028],\n",
       "       [     21,     183],\n",
       "       [     58,    3111],\n",
       "       [      0,       0],\n",
       "       [     18,     607],\n",
       "       [      8,     128],\n",
       "       [     50,    1157],\n",
       "       [   5630,  210469],\n",
       "       [ 148011, 1325804],\n",
       "       [      2,     986],\n",
       "       [   1636,   37202],\n",
       "       [    345,   52510],\n",
       "       [  45844,    1437],\n",
       "       [     35,     951],\n",
       "       [    121,   11674],\n",
       "       [    146,    9959],\n",
       "       [      0,     365],\n",
       "       [     78,    3752],\n",
       "       [      1,       8],\n",
       "       [    483,     833],\n",
       "       [    140,    2815],\n",
       "       [     36,     542]], dtype=int64)"
      ]
     },
     "execution_count": 4,
     "metadata": {},
     "output_type": "execute_result"
    }
   ],
   "source": [
    "X"
   ]
  },
  {
   "cell_type": "code",
   "execution_count": 5,
   "id": "996432e6",
   "metadata": {},
   "outputs": [],
   "source": [
    "from sklearn.model_selection import train_test_split\n",
    "X_train, X_test, y_train, y_test = train_test_split(X, y, test_size = 0.25, random_state = 0)"
   ]
  },
  {
   "cell_type": "code",
   "execution_count": 6,
   "id": "0f302575",
   "metadata": {},
   "outputs": [
    {
     "data": {
      "text/plain": [
       "array([[     80,    1620],\n",
       "       [    329,    6920],\n",
       "       [     10,     714],\n",
       "       [     21,     183],\n",
       "       [      0,      86],\n",
       "       [     42,     657],\n",
       "       [    194,    6477],\n",
       "       [     51,     842],\n",
       "       [    116,    1733],\n",
       "       [   9822,   17452],\n",
       "       [   5532,   34896],\n",
       "       [    748,   16154],\n",
       "       [   1322,   35086],\n",
       "       [    208,    5700],\n",
       "       [   4838,   58173],\n",
       "       [      2,      63],\n",
       "       [      8,     128],\n",
       "       [    285,    7833],\n",
       "       [   1676,   32856],\n",
       "       [     43,    2905],\n",
       "       [     51,    1709],\n",
       "       [    466,    5564],\n",
       "       [      6,     292],\n",
       "       [     93,    1543],\n",
       "       [     15,    2547],\n",
       "       [    373,   11428],\n",
       "       [      1,       8],\n",
       "       [     31,    1045],\n",
       "       [     49,    4682],\n",
       "       [   1163,   18837],\n",
       "       [      0,      18],\n",
       "       [     78,    3752],\n",
       "       [    156,    4653],\n",
       "       [    139,    3936],\n",
       "       [    423,   23242],\n",
       "       [    438,   55057],\n",
       "       [     20,     181],\n",
       "       [    146,    9959],\n",
       "       [     58,    3111],\n",
       "       [    165,  106328],\n",
       "       [      4,     104],\n",
       "       [      5,     975],\n",
       "       [      7,     440],\n",
       "       [    121,   11674],\n",
       "       [   1083,   30204],\n",
       "       [    255,    8752],\n",
       "       [     12,     128],\n",
       "       [     16,     922],\n",
       "       [   1636,   37202],\n",
       "       [    115,    3824],\n",
       "       [      0,      23],\n",
       "       [      0,      18],\n",
       "       [     58,    4977],\n",
       "       [  35112,  198593],\n",
       "       [   2965,  125683],\n",
       "       [      0,      22],\n",
       "       [  87618, 1846641],\n",
       "       [      2,     986],\n",
       "       [    860,   18203],\n",
       "       [   2647,   21478],\n",
       "       [    538,   60492],\n",
       "       [     10,    1823],\n",
       "       [     99,    1645],\n",
       "       [   4652,   34838],\n",
       "       [      1,      81],\n",
       "       [   1166,    5039],\n",
       "       [     52,     803],\n",
       "       [    140,    2815],\n",
       "       [    483,     833],\n",
       "       [   3059,   72575],\n",
       "       [      0,      13],\n",
       "       [      0,      12],\n",
       "       [    474,   27133],\n",
       "       [  13334,  602249],\n",
       "       [     22,    1514],\n",
       "       [    141,   36110],\n",
       "       [   2760,  222936],\n",
       "       [     24,     925],\n",
       "       [      7,      94],\n",
       "       [   1269,   25198],\n",
       "       [    185,    4027],\n",
       "       [   5700,       0],\n",
       "       [     11,      91],\n",
       "       [     48,   13754],\n",
       "       [    112,    4825],\n",
       "       [   9187,  319954],\n",
       "       [     34,    1025],\n",
       "       [   9125,  190314],\n",
       "       [    144,    2745],\n",
       "       [   6160,     189],\n",
       "       [     28,    1616],\n",
       "       [     96,   10361],\n",
       "       [    124,    8601],\n",
       "       [  18418,  272547],\n",
       "       [   1978,   30900],\n",
       "       [      2,      26],\n",
       "       [      7,     328],\n",
       "       [   1945,   26446],\n",
       "       [    408,    7778],\n",
       "       [  28432,  150376],\n",
       "       [   5842,  241026],\n",
       "       [     75,     810],\n",
       "       [      1,     301],\n",
       "       [      0,     222],\n",
       "       [    391,   14539],\n",
       "       [    300,   13007],\n",
       "       [    393,   57028],\n",
       "       [     18,     607],\n",
       "       [   8944,       0],\n",
       "       [      0,      39],\n",
       "       [     11,    2121],\n",
       "       [    543,       0],\n",
       "       [     22,    1550],\n",
       "       [     64,     577],\n",
       "       [   4458,   77144],\n",
       "       [  33408,  951166],\n",
       "       [     45,     809],\n",
       "       [      0,      39],\n",
       "       [      0,     365],\n",
       "       [     26,     803],\n",
       "       [    596,    3329],\n",
       "       [    347,    5585],\n",
       "       [     60,    6028],\n",
       "       [  15912,  255144],\n",
       "       [    345,   52510],\n",
       "       [     35,     951],\n",
       "       [     54,     829],\n",
       "       [    228,    6386],\n",
       "       [      0,      15],\n",
       "       [     11,    1041],\n",
       "       [   1761,   32455],\n",
       "       [    998,   21970],\n",
       "       [   4656,   78869],\n",
       "       [    294,    4930],\n",
       "       [    713,   18246],\n",
       "       [     91,    6260],\n",
       "       [    202,    1374],\n",
       "       [     11,       0],\n",
       "       [    613,   12605],\n",
       "       [   5630,  210469]], dtype=int64)"
      ]
     },
     "execution_count": 6,
     "metadata": {},
     "output_type": "execute_result"
    }
   ],
   "source": [
    "X_train"
   ]
  },
  {
   "cell_type": "code",
   "execution_count": 7,
   "id": "e0deb07e",
   "metadata": {},
   "outputs": [
    {
     "data": {
      "text/plain": [
       "array(['Africa', 'Europe', 'Eastern Mediterranean', 'Africa', 'Americas',\n",
       "       'Europe', 'Africa', 'Africa', 'Africa', 'Europe', 'Americas',\n",
       "       'Eastern Mediterranean', 'Africa', 'Africa', 'Europe', 'Africa',\n",
       "       'Americas', 'Western Pacific', 'Europe', 'Americas', 'Africa',\n",
       "       'Western Pacific', 'Europe', 'Europe', 'South-East Asia', 'Africa',\n",
       "       'Africa', 'Americas', 'Eastern Mediterranean', 'Africa', 'Africa',\n",
       "       'Africa', 'Eastern Mediterranean', 'Europe', 'Americas', 'Africa',\n",
       "       'Americas', 'Europe', 'Africa', 'Western Pacific',\n",
       "       'Western Pacific', 'Europe', 'Europe', 'Africa', 'Africa',\n",
       "       'Western Pacific', 'Western Pacific'], dtype=object)"
      ]
     },
     "execution_count": 7,
     "metadata": {},
     "output_type": "execute_result"
    }
   ],
   "source": [
    "y_test"
   ]
  },
  {
   "cell_type": "code",
   "execution_count": 8,
   "id": "0d62ad09",
   "metadata": {},
   "outputs": [],
   "source": [
    "from sklearn.preprocessing import StandardScaler\n",
    "sc = StandardScaler()\n",
    "X_train = sc.fit_transform(X_train)\n",
    "X_test = sc.transform(X_test)"
   ]
  },
  {
   "cell_type": "code",
   "execution_count": 9,
   "id": "906f2fe4",
   "metadata": {},
   "outputs": [
    {
     "data": {
      "text/plain": [
       "array([[-2.76134099e-01, -2.59615617e-01],\n",
       "       [-2.48472046e-01, -2.31272796e-01],\n",
       "       [-2.83910579e-01, -2.64460635e-01],\n",
       "       [-2.82688561e-01, -2.67300265e-01],\n",
       "       [-2.85021505e-01, -2.67818992e-01],\n",
       "       [-2.80355617e-01, -2.64765454e-01],\n",
       "       [-2.63469544e-01, -2.33641828e-01],\n",
       "       [-2.79355784e-01, -2.63776129e-01],\n",
       "       [-2.72134766e-01, -2.59011327e-01],\n",
       "       [ 8.06129821e-01, -1.74950798e-01],\n",
       "       [ 3.29542650e-01, -8.16654838e-02],\n",
       "       [-2.01924255e-01, -1.81892116e-01],\n",
       "       [-1.38157114e-01, -8.06494204e-02],\n",
       "       [-2.61914248e-01, -2.37796993e-01],\n",
       "       [ 2.52444399e-01,  4.28129769e-02],\n",
       "       [-2.84799320e-01, -2.67941989e-01],\n",
       "       [-2.84132764e-01, -2.67594389e-01],\n",
       "       [-2.53360120e-01, -2.26390344e-01],\n",
       "       [-9.88303402e-02, -9.25747959e-02],\n",
       "       [-2.80244524e-01, -2.52743820e-01],\n",
       "       [-2.79355784e-01, -2.59139672e-01],\n",
       "       [-2.33252363e-01, -2.38524280e-01],\n",
       "       [-2.84354950e-01, -2.66717365e-01],\n",
       "       [-2.74689895e-01, -2.60027390e-01],\n",
       "       [-2.83355116e-01, -2.54658297e-01],\n",
       "       [-2.43583973e-01, -2.07165355e-01],\n",
       "       [-2.84910413e-01, -2.68236113e-01],\n",
       "       [-2.81577635e-01, -2.62690546e-01],\n",
       "       [-2.79577969e-01, -2.43240953e-01],\n",
       "       [-1.55820834e-01, -1.67544231e-01],\n",
       "       [-2.85021505e-01, -2.68182636e-01],\n",
       "       [-2.76356284e-01, -2.48214316e-01],\n",
       "       [-2.67691063e-01, -2.43396037e-01],\n",
       "       [-2.69579636e-01, -2.47230339e-01],\n",
       "       [-2.38029344e-01, -1.43987603e-01],\n",
       "       [-2.36362955e-01,  2.61495373e-02],\n",
       "       [-2.82799653e-01, -2.67310960e-01],\n",
       "       [-2.68801988e-01, -2.15021130e-01],\n",
       "       [-2.78578135e-01, -2.51642193e-01],\n",
       "       [-2.66691229e-01,  3.00331569e-01],\n",
       "       [-2.84577135e-01, -2.67722733e-01],\n",
       "       [-2.84466042e-01, -2.63064885e-01],\n",
       "       [-2.84243857e-01, -2.65925906e-01],\n",
       "       [-2.71579303e-01, -2.05849821e-01],\n",
       "       [-1.64708240e-01, -1.06756902e-01],\n",
       "       [-2.56692897e-01, -2.21475806e-01],\n",
       "       [-2.83688394e-01, -2.67594389e-01],\n",
       "       [-2.83244024e-01, -2.63348313e-01],\n",
       "       [-1.03274043e-01, -6.93336828e-02],\n",
       "       [-2.72245858e-01, -2.47829282e-01],\n",
       "       [-2.85021505e-01, -2.68155897e-01],\n",
       "       [-2.85021505e-01, -2.68182636e-01],\n",
       "       [-2.78578135e-01, -2.41663381e-01],\n",
       "       [ 3.61566118e+00,  7.93737299e-01],\n",
       "       [ 4.43679961e-02,  4.03836342e-01],\n",
       "       [-2.85021505e-01, -2.68161245e-01],\n",
       "       [ 9.44868821e+00,  9.60700697e+00],\n",
       "       [-2.84799320e-01, -2.63006060e-01],\n",
       "       [-1.89481886e-01, -1.70934674e-01],\n",
       "       [ 9.04055550e-03, -1.53420950e-01],\n",
       "       [-2.25253697e-01,  5.52142979e-02],\n",
       "       [-2.83910579e-01, -2.58530034e-01],\n",
       "       [-2.74023340e-01, -2.59481925e-01],\n",
       "       [ 2.31781179e-01, -8.19756505e-02],\n",
       "       [-2.84910413e-01, -2.67845731e-01],\n",
       "       [-1.55487556e-01, -2.41331824e-01],\n",
       "       [-2.79244691e-01, -2.63984690e-01],\n",
       "       [-2.69468544e-01, -2.53225113e-01],\n",
       "       [-2.31363789e-01, -2.63824259e-01],\n",
       "       [ 5.48106987e-02,  1.19830582e-01],\n",
       "       [-2.85021505e-01, -2.68209374e-01],\n",
       "       [-2.85021505e-01, -2.68214722e-01],\n",
       "       [-2.32363622e-01, -1.23179695e-01],\n",
       "       [ 1.19628696e+00,  2.95236932e+00],\n",
       "       [-2.82577468e-01, -2.60182474e-01],\n",
       "       [-2.69357451e-01, -7.51733735e-02],\n",
       "       [ 2.15940171e-02,  9.23916410e-01],\n",
       "       [-2.82355283e-01, -2.63332270e-01],\n",
       "       [-2.84243857e-01, -2.67776210e-01],\n",
       "       [-1.44045020e-01, -1.33527498e-01],\n",
       "       [-2.64469378e-01, -2.46743698e-01],\n",
       "       [ 3.48206204e-01, -2.68278894e-01],\n",
       "       [-2.83799487e-01, -2.67792254e-01],\n",
       "       [-2.79689061e-01, -1.94726600e-01],\n",
       "       [-2.72579136e-01, -2.42476232e-01],\n",
       "       [ 7.35586032e-01,  1.44273977e+00],\n",
       "       [-2.81244357e-01, -2.62797500e-01],\n",
       "       [ 7.28698292e-01,  7.49463673e-01],\n",
       "       [-2.69024174e-01, -2.53599452e-01],\n",
       "       [ 3.99308791e-01, -2.67268179e-01],\n",
       "       [-2.81910913e-01, -2.59637008e-01],\n",
       "       [-2.74356617e-01, -2.12871354e-01],\n",
       "       [-2.71246025e-01, -2.22283309e-01],\n",
       "       [ 1.76108164e+00,  1.18922126e+00],\n",
       "       [-6.52803809e-02, -1.03034901e-01],\n",
       "       [-2.84799320e-01, -2.68139854e-01],\n",
       "       [-2.84243857e-01, -2.66524848e-01],\n",
       "       [-6.89464360e-02, -1.26853566e-01],\n",
       "       [-2.39695732e-01, -2.26684468e-01],\n",
       "       [ 2.87356274e+00,  5.35887149e-01],\n",
       "       [ 3.63981350e-01,  1.02065634e+00],\n",
       "       [-2.76689562e-01, -2.63947256e-01],\n",
       "       [-2.84910413e-01, -2.66669236e-01],\n",
       "       [-2.85021505e-01, -2.67091705e-01],\n",
       "       [-2.41584306e-01, -1.90528654e-01],\n",
       "       [-2.51693731e-01, -1.98721334e-01],\n",
       "       [-2.41362121e-01,  3.66898580e-02],\n",
       "       [-2.83021839e-01, -2.65032839e-01],\n",
       "       [ 7.08590535e-01, -2.68278894e-01],\n",
       "       [-2.85021505e-01, -2.68070334e-01],\n",
       "       [-2.83799487e-01, -2.56936418e-01],\n",
       "       [-2.24698234e-01, -2.68278894e-01],\n",
       "       [-2.82577468e-01, -2.59989956e-01],\n",
       "       [-2.77911580e-01, -2.65193270e-01],\n",
       "       [ 2.10229219e-01,  1.44264232e-01],\n",
       "       [ 3.42635942e+00,  4.81827347e+00],\n",
       "       [-2.80022339e-01, -2.63952604e-01],\n",
       "       [-2.85021505e-01, -2.68070334e-01],\n",
       "       [-2.85021505e-01, -2.66326983e-01],\n",
       "       [-2.82133098e-01, -2.63984690e-01],\n",
       "       [-2.18810327e-01, -2.50476394e-01],\n",
       "       [-2.46472380e-01, -2.38411979e-01],\n",
       "       [-2.78355950e-01, -2.36042947e-01],\n",
       "       [ 1.48268364e+00,  1.09615520e+00],\n",
       "       [-2.46694565e-01,  1.25289401e-02],\n",
       "       [-2.81133265e-01, -2.63193230e-01],\n",
       "       [-2.79022506e-01, -2.63845649e-01],\n",
       "       [-2.59692397e-01, -2.34128469e-01],\n",
       "       [-2.85021505e-01, -2.68198679e-01],\n",
       "       [-2.83799487e-01, -2.62711937e-01],\n",
       "       [-8.93874708e-02, -9.47192245e-02],\n",
       "       [-1.74151110e-01, -1.50789880e-01],\n",
       "       [ 2.32225550e-01,  1.53489018e-01],\n",
       "       [-2.52360286e-01, -2.41914723e-01],\n",
       "       [-2.05812495e-01, -1.70704723e-01],\n",
       "       [-2.74912080e-01, -2.34802280e-01],\n",
       "       [-2.62580804e-01, -2.60931152e-01],\n",
       "       [-2.83799487e-01, -2.68278894e-01],\n",
       "       [-2.16921753e-01, -2.00871110e-01],\n",
       "       [ 3.40429723e-01,  8.57246608e-01]])"
      ]
     },
     "execution_count": 9,
     "metadata": {},
     "output_type": "execute_result"
    }
   ],
   "source": [
    "X_train"
   ]
  },
  {
   "cell_type": "code",
   "execution_count": 10,
   "id": "4d3e2443",
   "metadata": {},
   "outputs": [
    {
     "data": {
      "text/plain": [
       "array(['Africa', 'Europe', 'Eastern Mediterranean', 'Africa', 'Americas',\n",
       "       'Europe', 'Africa', 'Africa', 'Africa', 'Europe', 'Americas',\n",
       "       'Eastern Mediterranean', 'Africa', 'Africa', 'Europe', 'Africa',\n",
       "       'Americas', 'Western Pacific', 'Europe', 'Americas', 'Africa',\n",
       "       'Western Pacific', 'Europe', 'Europe', 'South-East Asia', 'Africa',\n",
       "       'Africa', 'Americas', 'Eastern Mediterranean', 'Africa', 'Africa',\n",
       "       'Africa', 'Eastern Mediterranean', 'Europe', 'Americas', 'Africa',\n",
       "       'Americas', 'Europe', 'Africa', 'Western Pacific',\n",
       "       'Western Pacific', 'Europe', 'Europe', 'Africa', 'Africa',\n",
       "       'Western Pacific', 'Western Pacific'], dtype=object)"
      ]
     },
     "execution_count": 10,
     "metadata": {},
     "output_type": "execute_result"
    }
   ],
   "source": [
    "y_test"
   ]
  },
  {
   "cell_type": "code",
   "execution_count": 11,
   "id": "7ce06967",
   "metadata": {},
   "outputs": [
    {
     "data": {
      "text/html": [
       "<style>#sk-container-id-1 {color: black;background-color: white;}#sk-container-id-1 pre{padding: 0;}#sk-container-id-1 div.sk-toggleable {background-color: white;}#sk-container-id-1 label.sk-toggleable__label {cursor: pointer;display: block;width: 100%;margin-bottom: 0;padding: 0.3em;box-sizing: border-box;text-align: center;}#sk-container-id-1 label.sk-toggleable__label-arrow:before {content: \"▸\";float: left;margin-right: 0.25em;color: #696969;}#sk-container-id-1 label.sk-toggleable__label-arrow:hover:before {color: black;}#sk-container-id-1 div.sk-estimator:hover label.sk-toggleable__label-arrow:before {color: black;}#sk-container-id-1 div.sk-toggleable__content {max-height: 0;max-width: 0;overflow: hidden;text-align: left;background-color: #f0f8ff;}#sk-container-id-1 div.sk-toggleable__content pre {margin: 0.2em;color: black;border-radius: 0.25em;background-color: #f0f8ff;}#sk-container-id-1 input.sk-toggleable__control:checked~div.sk-toggleable__content {max-height: 200px;max-width: 100%;overflow: auto;}#sk-container-id-1 input.sk-toggleable__control:checked~label.sk-toggleable__label-arrow:before {content: \"▾\";}#sk-container-id-1 div.sk-estimator input.sk-toggleable__control:checked~label.sk-toggleable__label {background-color: #d4ebff;}#sk-container-id-1 div.sk-label input.sk-toggleable__control:checked~label.sk-toggleable__label {background-color: #d4ebff;}#sk-container-id-1 input.sk-hidden--visually {border: 0;clip: rect(1px 1px 1px 1px);clip: rect(1px, 1px, 1px, 1px);height: 1px;margin: -1px;overflow: hidden;padding: 0;position: absolute;width: 1px;}#sk-container-id-1 div.sk-estimator {font-family: monospace;background-color: #f0f8ff;border: 1px dotted black;border-radius: 0.25em;box-sizing: border-box;margin-bottom: 0.5em;}#sk-container-id-1 div.sk-estimator:hover {background-color: #d4ebff;}#sk-container-id-1 div.sk-parallel-item::after {content: \"\";width: 100%;border-bottom: 1px solid gray;flex-grow: 1;}#sk-container-id-1 div.sk-label:hover label.sk-toggleable__label {background-color: #d4ebff;}#sk-container-id-1 div.sk-serial::before {content: \"\";position: absolute;border-left: 1px solid gray;box-sizing: border-box;top: 0;bottom: 0;left: 50%;z-index: 0;}#sk-container-id-1 div.sk-serial {display: flex;flex-direction: column;align-items: center;background-color: white;padding-right: 0.2em;padding-left: 0.2em;position: relative;}#sk-container-id-1 div.sk-item {position: relative;z-index: 1;}#sk-container-id-1 div.sk-parallel {display: flex;align-items: stretch;justify-content: center;background-color: white;position: relative;}#sk-container-id-1 div.sk-item::before, #sk-container-id-1 div.sk-parallel-item::before {content: \"\";position: absolute;border-left: 1px solid gray;box-sizing: border-box;top: 0;bottom: 0;left: 50%;z-index: -1;}#sk-container-id-1 div.sk-parallel-item {display: flex;flex-direction: column;z-index: 1;position: relative;background-color: white;}#sk-container-id-1 div.sk-parallel-item:first-child::after {align-self: flex-end;width: 50%;}#sk-container-id-1 div.sk-parallel-item:last-child::after {align-self: flex-start;width: 50%;}#sk-container-id-1 div.sk-parallel-item:only-child::after {width: 0;}#sk-container-id-1 div.sk-dashed-wrapped {border: 1px dashed gray;margin: 0 0.4em 0.5em 0.4em;box-sizing: border-box;padding-bottom: 0.4em;background-color: white;}#sk-container-id-1 div.sk-label label {font-family: monospace;font-weight: bold;display: inline-block;line-height: 1.2em;}#sk-container-id-1 div.sk-label-container {text-align: center;}#sk-container-id-1 div.sk-container {/* jupyter's `normalize.less` sets `[hidden] { display: none; }` but bootstrap.min.css set `[hidden] { display: none !important; }` so we also need the `!important` here to be able to override the default hidden behavior on the sphinx rendered scikit-learn.org. See: https://github.com/scikit-learn/scikit-learn/issues/21755 */display: inline-block !important;position: relative;}#sk-container-id-1 div.sk-text-repr-fallback {display: none;}</style><div id=\"sk-container-id-1\" class=\"sk-top-container\"><div class=\"sk-text-repr-fallback\"><pre>GaussianNB()</pre><b>In a Jupyter environment, please rerun this cell to show the HTML representation or trust the notebook. <br />On GitHub, the HTML representation is unable to render, please try loading this page with nbviewer.org.</b></div><div class=\"sk-container\" hidden><div class=\"sk-item\"><div class=\"sk-estimator sk-toggleable\"><input class=\"sk-toggleable__control sk-hidden--visually\" id=\"sk-estimator-id-1\" type=\"checkbox\" checked><label for=\"sk-estimator-id-1\" class=\"sk-toggleable__label sk-toggleable__label-arrow\">GaussianNB</label><div class=\"sk-toggleable__content\"><pre>GaussianNB()</pre></div></div></div></div></div>"
      ],
      "text/plain": [
       "GaussianNB()"
      ]
     },
     "execution_count": 11,
     "metadata": {},
     "output_type": "execute_result"
    }
   ],
   "source": [
    "from sklearn.naive_bayes import GaussianNB\n",
    "classifier = GaussianNB()\n",
    "classifier.fit(X_train, y_train)"
   ]
  },
  {
   "cell_type": "code",
   "execution_count": 12,
   "id": "b524c2ca",
   "metadata": {},
   "outputs": [],
   "source": [
    "y_pred = classifier.predict(X_test)"
   ]
  },
  {
   "cell_type": "code",
   "execution_count": 13,
   "id": "d54cf27d",
   "metadata": {},
   "outputs": [
    {
     "data": {
      "text/plain": [
       "array(['Africa', 'Africa', 'Africa', 'Africa', 'Africa',\n",
       "       'Western Pacific', 'Africa', 'Africa', 'Africa', 'Western Pacific',\n",
       "       'Africa', 'Africa', 'Americas', 'Africa', 'Africa', 'Africa',\n",
       "       'Europe', 'Africa', 'Western Pacific', 'Africa', 'Africa',\n",
       "       'Africa', 'Africa', 'Western Pacific', 'Africa', 'Africa',\n",
       "       'Africa', 'Americas', 'Africa', 'Africa', 'Africa', 'Africa',\n",
       "       'Africa', 'Americas', 'Africa', 'Africa', 'Americas',\n",
       "       'Western Pacific', 'Africa', 'Africa', 'Western Pacific',\n",
       "       'Western Pacific', 'Americas', 'Africa', 'Western Pacific',\n",
       "       'Africa', 'Africa'], dtype='<U21')"
      ]
     },
     "execution_count": 13,
     "metadata": {},
     "output_type": "execute_result"
    }
   ],
   "source": [
    "y_pred"
   ]
  },
  {
   "cell_type": "code",
   "execution_count": 14,
   "id": "ad1e80ef",
   "metadata": {},
   "outputs": [
    {
     "data": {
      "text/plain": [
       "array(['Africa', 'Europe', 'Eastern Mediterranean', 'Africa', 'Americas',\n",
       "       'Europe', 'Africa', 'Africa', 'Africa', 'Europe', 'Americas',\n",
       "       'Eastern Mediterranean', 'Africa', 'Africa', 'Europe', 'Africa',\n",
       "       'Americas', 'Western Pacific', 'Europe', 'Americas', 'Africa',\n",
       "       'Western Pacific', 'Europe', 'Europe', 'South-East Asia', 'Africa',\n",
       "       'Africa', 'Americas', 'Eastern Mediterranean', 'Africa', 'Africa',\n",
       "       'Africa', 'Eastern Mediterranean', 'Europe', 'Americas', 'Africa',\n",
       "       'Americas', 'Europe', 'Africa', 'Western Pacific',\n",
       "       'Western Pacific', 'Europe', 'Europe', 'Africa', 'Africa',\n",
       "       'Western Pacific', 'Western Pacific'], dtype=object)"
      ]
     },
     "execution_count": 14,
     "metadata": {},
     "output_type": "execute_result"
    }
   ],
   "source": [
    "y_test"
   ]
  },
  {
   "cell_type": "code",
   "execution_count": 15,
   "id": "87e21a78",
   "metadata": {},
   "outputs": [
    {
     "name": "stdout",
     "output_type": "stream",
     "text": [
      "[[16  1  0  0  0  1]\n",
      " [ 4  2  0  1  0  0]\n",
      " [ 4  0  0  0  0  0]\n",
      " [ 3  2  0  0  0  6]\n",
      " [ 1  0  0  0  0  0]\n",
      " [ 5  0  0  0  0  1]]\n"
     ]
    }
   ],
   "source": [
    "from sklearn.metrics import confusion_matrix\n",
    "cm = confusion_matrix(y_test, y_pred)\n",
    "print(cm)"
   ]
  },
  {
   "cell_type": "code",
   "execution_count": 16,
   "id": "186c1515",
   "metadata": {},
   "outputs": [
    {
     "data": {
      "image/png": "[encoded data removed]",
      "text/plain": [
       "<Figure size 800x500 with 2 Axes>"
      ]
     },
     "metadata": {},
     "output_type": "display_data"
    }
   ],
   "source": [
    "import seaborn as sns\n",
    "import matplotlib.pyplot as plt\n",
    "f, ax = plt.subplots(figsize=(8,5))\n",
    "sns.heatmap(confusion_matrix(y_test, y_pred), annot=True, fmt=\".0f\", ax=ax)\n",
    "plt.xlabel(\"y_pred\")\n",
    "plt.ylabel(\"y_true\")\n",
    "plt.show()"
   ]
  },
  {
   "cell_type": "code",
   "execution_count": 17,
   "id": "9c008839",
   "metadata": {},
   "outputs": [
    {
     "name": "stdout",
     "output_type": "stream",
     "text": [
      "                       precision    recall  f1-score   support\n",
      "\n",
      "               Africa       0.48      0.89      0.63        18\n",
      "             Americas       0.40      0.29      0.33         7\n",
      "Eastern Mediterranean       0.00      0.00      0.00         4\n",
      "               Europe       0.00      0.00      0.00        11\n",
      "      South-East Asia       0.00      0.00      0.00         1\n",
      "      Western Pacific       0.12      0.17      0.14         6\n",
      "\n",
      "             accuracy                           0.40        47\n",
      "            macro avg       0.17      0.22      0.18        47\n",
      "         weighted avg       0.26      0.40      0.31        47\n",
      "\n"
     ]
    },
    {
     "name": "stderr",
     "output_type": "stream",
     "text": [
      "C:\\Python311\\Lib\\site-packages\\sklearn\\metrics\\_classification.py:1344: UndefinedMetricWarning: Precision and F-score are ill-defined and being set to 0.0 in labels with no predicted samples. Use `zero_division` parameter to control this behavior.\n",
      "  _warn_prf(average, modifier, msg_start, len(result))\n",
      "C:\\Python311\\Lib\\site-packages\\sklearn\\metrics\\_classification.py:1344: UndefinedMetricWarning: Precision and F-score are ill-defined and being set to 0.0 in labels with no predicted samples. Use `zero_division` parameter to control this behavior.\n",
      "  _warn_prf(average, modifier, msg_start, len(result))\n",
      "C:\\Python311\\Lib\\site-packages\\sklearn\\metrics\\_classification.py:1344: UndefinedMetricWarning: Precision and F-score are ill-defined and being set to 0.0 in labels with no predicted samples. Use `zero_division` parameter to control this behavior.\n",
      "  _warn_prf(average, modifier, msg_start, len(result))\n"
     ]
    }
   ],
   "source": [
    "from sklearn.metrics import classification_report\n",
    "print (classification_report(y_test, y_pred))"
   ]
  },
  {
   "cell_type": "code",
   "execution_count": 22,
   "id": "6ee97b41",
   "metadata": {},
   "outputs": [
    {
     "ename": "TypeError",
     "evalue": "ufunc 'isfinite' not supported for the input types, and the inputs could not be safely coerced to any supported types according to the casting rule ''safe''",
     "output_type": "error",
     "traceback": [
      "\u001b[1;31m---------------------------------------------------------------------------\u001b[0m",
      "\u001b[1;31mTypeError\u001b[0m                                 Traceback (most recent call last)",
      "Cell \u001b[1;32mIn[22], line 5\u001b[0m\n\u001b[0;32m      2\u001b[0m X_set, y_set \u001b[38;5;241m=\u001b[39m X_train, y_train\n\u001b[0;32m      3\u001b[0m X1, X2 \u001b[38;5;241m=\u001b[39m np\u001b[38;5;241m.\u001b[39mmeshgrid(np\u001b[38;5;241m.\u001b[39marange(start \u001b[38;5;241m=\u001b[39m X_set[:, \u001b[38;5;241m0\u001b[39m]\u001b[38;5;241m.\u001b[39mmin() \u001b[38;5;241m-\u001b[39m \u001b[38;5;241m1\u001b[39m, stop \u001b[38;5;241m=\u001b[39m X_set[:, \u001b[38;5;241m0\u001b[39m]\u001b[38;5;241m.\u001b[39mmax() \u001b[38;5;241m+\u001b[39m \u001b[38;5;241m1\u001b[39m, step \u001b[38;5;241m=\u001b[39m \u001b[38;5;241m0.01\u001b[39m),\n\u001b[0;32m      4\u001b[0m                      np\u001b[38;5;241m.\u001b[39marange(start \u001b[38;5;241m=\u001b[39m X_set[:, \u001b[38;5;241m1\u001b[39m]\u001b[38;5;241m.\u001b[39mmin() \u001b[38;5;241m-\u001b[39m \u001b[38;5;241m1\u001b[39m, stop \u001b[38;5;241m=\u001b[39m X_set[:, \u001b[38;5;241m1\u001b[39m]\u001b[38;5;241m.\u001b[39mmax() \u001b[38;5;241m+\u001b[39m \u001b[38;5;241m1\u001b[39m, step \u001b[38;5;241m=\u001b[39m \u001b[38;5;241m0.01\u001b[39m))\n\u001b[1;32m----> 5\u001b[0m \u001b[43mplt\u001b[49m\u001b[38;5;241;43m.\u001b[39;49m\u001b[43mcontourf\u001b[49m\u001b[43m(\u001b[49m\u001b[43mX1\u001b[49m\u001b[43m,\u001b[49m\u001b[43m \u001b[49m\u001b[43mX2\u001b[49m\u001b[43m,\u001b[49m\u001b[43m \u001b[49m\u001b[43mclassifier\u001b[49m\u001b[38;5;241;43m.\u001b[39;49m\u001b[43mpredict\u001b[49m\u001b[43m(\u001b[49m\u001b[43mnp\u001b[49m\u001b[38;5;241;43m.\u001b[39;49m\u001b[43marray\u001b[49m\u001b[43m(\u001b[49m\u001b[43m[\u001b[49m\u001b[43mX1\u001b[49m\u001b[38;5;241;43m.\u001b[39;49m\u001b[43mravel\u001b[49m\u001b[43m(\u001b[49m\u001b[43m)\u001b[49m\u001b[43m,\u001b[49m\u001b[43m \u001b[49m\u001b[43mX2\u001b[49m\u001b[38;5;241;43m.\u001b[39;49m\u001b[43mravel\u001b[49m\u001b[43m(\u001b[49m\u001b[43m)\u001b[49m\u001b[43m]\u001b[49m\u001b[43m)\u001b[49m\u001b[38;5;241;43m.\u001b[39;49m\u001b[43mT\u001b[49m\u001b[43m)\u001b[49m\u001b[38;5;241;43m.\u001b[39;49m\u001b[43mreshape\u001b[49m\u001b[43m(\u001b[49m\u001b[43mX1\u001b[49m\u001b[38;5;241;43m.\u001b[39;49m\u001b[43mshape\u001b[49m\u001b[43m)\u001b[49m\u001b[43m,\u001b[49m\n\u001b[0;32m      6\u001b[0m \u001b[43m             \u001b[49m\u001b[43malpha\u001b[49m\u001b[43m \u001b[49m\u001b[38;5;241;43m=\u001b[39;49m\u001b[43m \u001b[49m\u001b[38;5;241;43m0.75\u001b[39;49m\u001b[43m,\u001b[49m\u001b[43m \u001b[49m\u001b[43mcmap\u001b[49m\u001b[43m \u001b[49m\u001b[38;5;241;43m=\u001b[39;49m\u001b[43m \u001b[49m\u001b[43mListedColormap\u001b[49m\u001b[43m(\u001b[49m\u001b[43m(\u001b[49m\u001b[38;5;124;43m'\u001b[39;49m\u001b[38;5;124;43mred\u001b[39;49m\u001b[38;5;124;43m'\u001b[39;49m\u001b[43m,\u001b[49m\u001b[43m \u001b[49m\u001b[38;5;124;43m'\u001b[39;49m\u001b[38;5;124;43mgreen\u001b[39;49m\u001b[38;5;124;43m'\u001b[39;49m\u001b[43m)\u001b[49m\u001b[43m)\u001b[49m\u001b[43m)\u001b[49m\n\u001b[0;32m      7\u001b[0m plt\u001b[38;5;241m.\u001b[39mxlim(X1\u001b[38;5;241m.\u001b[39mmin(), X1\u001b[38;5;241m.\u001b[39mmax())\n\u001b[0;32m      8\u001b[0m plt\u001b[38;5;241m.\u001b[39mylim(X2\u001b[38;5;241m.\u001b[39mmin(), X2\u001b[38;5;241m.\u001b[39mmax())\n",
      "File \u001b[1;32mC:\\Python311\\Lib\\site-packages\\matplotlib\\pyplot.py:2537\u001b[0m, in \u001b[0;36mcontourf\u001b[1;34m(data, *args, **kwargs)\u001b[0m\n\u001b[0;32m   2535\u001b[0m \u001b[38;5;129m@_copy_docstring_and_deprecators\u001b[39m(Axes\u001b[38;5;241m.\u001b[39mcontourf)\n\u001b[0;32m   2536\u001b[0m \u001b[38;5;28;01mdef\u001b[39;00m \u001b[38;5;21mcontourf\u001b[39m(\u001b[38;5;241m*\u001b[39margs, data\u001b[38;5;241m=\u001b[39m\u001b[38;5;28;01mNone\u001b[39;00m, \u001b[38;5;241m*\u001b[39m\u001b[38;5;241m*\u001b[39mkwargs):\n\u001b[1;32m-> 2537\u001b[0m     __ret \u001b[38;5;241m=\u001b[39m \u001b[43mgca\u001b[49m\u001b[43m(\u001b[49m\u001b[43m)\u001b[49m\u001b[38;5;241;43m.\u001b[39;49m\u001b[43mcontourf\u001b[49m\u001b[43m(\u001b[49m\n\u001b[0;32m   2538\u001b[0m \u001b[43m        \u001b[49m\u001b[38;5;241;43m*\u001b[39;49m\u001b[43margs\u001b[49m\u001b[43m,\u001b[49m\u001b[43m \u001b[49m\u001b[38;5;241;43m*\u001b[39;49m\u001b[38;5;241;43m*\u001b[39;49m\u001b[43m(\u001b[49m\u001b[43m{\u001b[49m\u001b[38;5;124;43m\"\u001b[39;49m\u001b[38;5;124;43mdata\u001b[39;49m\u001b[38;5;124;43m\"\u001b[39;49m\u001b[43m:\u001b[49m\u001b[43m \u001b[49m\u001b[43mdata\u001b[49m\u001b[43m}\u001b[49m\u001b[43m \u001b[49m\u001b[38;5;28;43;01mif\u001b[39;49;00m\u001b[43m \u001b[49m\u001b[43mdata\u001b[49m\u001b[43m \u001b[49m\u001b[38;5;129;43;01mis\u001b[39;49;00m\u001b[43m \u001b[49m\u001b[38;5;129;43;01mnot\u001b[39;49;00m\u001b[43m \u001b[49m\u001b[38;5;28;43;01mNone\u001b[39;49;00m\u001b[43m \u001b[49m\u001b[38;5;28;43;01melse\u001b[39;49;00m\u001b[43m \u001b[49m\u001b[43m{\u001b[49m\u001b[43m}\u001b[49m\u001b[43m)\u001b[49m\u001b[43m,\u001b[49m\n\u001b[0;32m   2539\u001b[0m \u001b[43m        \u001b[49m\u001b[38;5;241;43m*\u001b[39;49m\u001b[38;5;241;43m*\u001b[39;49m\u001b[43mkwargs\u001b[49m\u001b[43m)\u001b[49m\n\u001b[0;32m   2540\u001b[0m     \u001b[38;5;28;01mif\u001b[39;00m __ret\u001b[38;5;241m.\u001b[39m_A \u001b[38;5;129;01mis\u001b[39;00m \u001b[38;5;129;01mnot\u001b[39;00m \u001b[38;5;28;01mNone\u001b[39;00m: sci(__ret)  \u001b[38;5;66;03m# noqa\u001b[39;00m\n\u001b[0;32m   2541\u001b[0m     \u001b[38;5;28;01mreturn\u001b[39;00m __ret\n",
      "File \u001b[1;32mC:\\Python311\\Lib\\site-packages\\matplotlib\\__init__.py:1459\u001b[0m, in \u001b[0;36m_preprocess_data.<locals>.inner\u001b[1;34m(ax, data, *args, **kwargs)\u001b[0m\n\u001b[0;32m   1456\u001b[0m \u001b[38;5;129m@functools\u001b[39m\u001b[38;5;241m.\u001b[39mwraps(func)\n\u001b[0;32m   1457\u001b[0m \u001b[38;5;28;01mdef\u001b[39;00m \u001b[38;5;21minner\u001b[39m(ax, \u001b[38;5;241m*\u001b[39margs, data\u001b[38;5;241m=\u001b[39m\u001b[38;5;28;01mNone\u001b[39;00m, \u001b[38;5;241m*\u001b[39m\u001b[38;5;241m*\u001b[39mkwargs):\n\u001b[0;32m   1458\u001b[0m     \u001b[38;5;28;01mif\u001b[39;00m data \u001b[38;5;129;01mis\u001b[39;00m \u001b[38;5;28;01mNone\u001b[39;00m:\n\u001b[1;32m-> 1459\u001b[0m         \u001b[38;5;28;01mreturn\u001b[39;00m \u001b[43mfunc\u001b[49m\u001b[43m(\u001b[49m\u001b[43max\u001b[49m\u001b[43m,\u001b[49m\u001b[43m \u001b[49m\u001b[38;5;241;43m*\u001b[39;49m\u001b[38;5;28;43mmap\u001b[39;49m\u001b[43m(\u001b[49m\u001b[43msanitize_sequence\u001b[49m\u001b[43m,\u001b[49m\u001b[43m \u001b[49m\u001b[43margs\u001b[49m\u001b[43m)\u001b[49m\u001b[43m,\u001b[49m\u001b[43m \u001b[49m\u001b[38;5;241;43m*\u001b[39;49m\u001b[38;5;241;43m*\u001b[39;49m\u001b[43mkwargs\u001b[49m\u001b[43m)\u001b[49m\n\u001b[0;32m   1461\u001b[0m     bound \u001b[38;5;241m=\u001b[39m new_sig\u001b[38;5;241m.\u001b[39mbind(ax, \u001b[38;5;241m*\u001b[39margs, \u001b[38;5;241m*\u001b[39m\u001b[38;5;241m*\u001b[39mkwargs)\n\u001b[0;32m   1462\u001b[0m     auto_label \u001b[38;5;241m=\u001b[39m (bound\u001b[38;5;241m.\u001b[39marguments\u001b[38;5;241m.\u001b[39mget(label_namer)\n\u001b[0;32m   1463\u001b[0m                   \u001b[38;5;129;01mor\u001b[39;00m bound\u001b[38;5;241m.\u001b[39mkwargs\u001b[38;5;241m.\u001b[39mget(label_namer))\n",
      "File \u001b[1;32mC:\\Python311\\Lib\\site-packages\\matplotlib\\axes\\_axes.py:6467\u001b[0m, in \u001b[0;36mAxes.contourf\u001b[1;34m(self, *args, **kwargs)\u001b[0m\n\u001b[0;32m   6458\u001b[0m \u001b[38;5;250m\u001b[39m\u001b[38;5;124;03m\"\"\"\u001b[39;00m\n\u001b[0;32m   6459\u001b[0m \u001b[38;5;124;03mPlot filled contours.\u001b[39;00m\n\u001b[0;32m   6460\u001b[0m \n\u001b[1;32m   (...)\u001b[0m\n\u001b[0;32m   6464\u001b[0m \u001b[38;5;124;03m%(contour_doc)s\u001b[39;00m\n\u001b[0;32m   6465\u001b[0m \u001b[38;5;124;03m\"\"\"\u001b[39;00m\n\u001b[0;32m   6466\u001b[0m kwargs[\u001b[38;5;124m'\u001b[39m\u001b[38;5;124mfilled\u001b[39m\u001b[38;5;124m'\u001b[39m] \u001b[38;5;241m=\u001b[39m \u001b[38;5;28;01mTrue\u001b[39;00m\n\u001b[1;32m-> 6467\u001b[0m contours \u001b[38;5;241m=\u001b[39m \u001b[43mmcontour\u001b[49m\u001b[38;5;241;43m.\u001b[39;49m\u001b[43mQuadContourSet\u001b[49m\u001b[43m(\u001b[49m\u001b[38;5;28;43mself\u001b[39;49m\u001b[43m,\u001b[49m\u001b[43m \u001b[49m\u001b[38;5;241;43m*\u001b[39;49m\u001b[43margs\u001b[49m\u001b[43m,\u001b[49m\u001b[43m \u001b[49m\u001b[38;5;241;43m*\u001b[39;49m\u001b[38;5;241;43m*\u001b[39;49m\u001b[43mkwargs\u001b[49m\u001b[43m)\u001b[49m\n\u001b[0;32m   6468\u001b[0m \u001b[38;5;28mself\u001b[39m\u001b[38;5;241m.\u001b[39m_request_autoscale_view()\n\u001b[0;32m   6469\u001b[0m \u001b[38;5;28;01mreturn\u001b[39;00m contours\n",
      "File \u001b[1;32mC:\\Python311\\Lib\\site-packages\\matplotlib\\contour.py:769\u001b[0m, in \u001b[0;36mContourSet.__init__\u001b[1;34m(self, ax, levels, filled, linewidths, linestyles, hatches, alpha, origin, extent, cmap, colors, norm, vmin, vmax, extend, antialiased, nchunk, locator, transform, negative_linestyles, *args, **kwargs)\u001b[0m\n\u001b[0;32m    765\u001b[0m \u001b[38;5;28;01mif\u001b[39;00m \u001b[38;5;28mself\u001b[39m\u001b[38;5;241m.\u001b[39mnegative_linestyles \u001b[38;5;129;01mis\u001b[39;00m \u001b[38;5;28;01mNone\u001b[39;00m:\n\u001b[0;32m    766\u001b[0m     \u001b[38;5;28mself\u001b[39m\u001b[38;5;241m.\u001b[39mnegative_linestyles \u001b[38;5;241m=\u001b[39m \\\n\u001b[0;32m    767\u001b[0m         mpl\u001b[38;5;241m.\u001b[39mrcParams[\u001b[38;5;124m'\u001b[39m\u001b[38;5;124mcontour.negative_linestyle\u001b[39m\u001b[38;5;124m'\u001b[39m]\n\u001b[1;32m--> 769\u001b[0m kwargs \u001b[38;5;241m=\u001b[39m \u001b[38;5;28;43mself\u001b[39;49m\u001b[38;5;241;43m.\u001b[39;49m\u001b[43m_process_args\u001b[49m\u001b[43m(\u001b[49m\u001b[38;5;241;43m*\u001b[39;49m\u001b[43margs\u001b[49m\u001b[43m,\u001b[49m\u001b[43m \u001b[49m\u001b[38;5;241;43m*\u001b[39;49m\u001b[38;5;241;43m*\u001b[39;49m\u001b[43mkwargs\u001b[49m\u001b[43m)\u001b[49m\n\u001b[0;32m    770\u001b[0m \u001b[38;5;28mself\u001b[39m\u001b[38;5;241m.\u001b[39m_process_levels()\n\u001b[0;32m    772\u001b[0m \u001b[38;5;28mself\u001b[39m\u001b[38;5;241m.\u001b[39m_extend_min \u001b[38;5;241m=\u001b[39m \u001b[38;5;28mself\u001b[39m\u001b[38;5;241m.\u001b[39mextend \u001b[38;5;129;01min\u001b[39;00m [\u001b[38;5;124m'\u001b[39m\u001b[38;5;124mmin\u001b[39m\u001b[38;5;124m'\u001b[39m, \u001b[38;5;124m'\u001b[39m\u001b[38;5;124mboth\u001b[39m\u001b[38;5;124m'\u001b[39m]\n",
      "File \u001b[1;32mC:\\Python311\\Lib\\site-packages\\matplotlib\\contour.py:1411\u001b[0m, in \u001b[0;36mQuadContourSet._process_args\u001b[1;34m(self, corner_mask, algorithm, *args, **kwargs)\u001b[0m\n\u001b[0;32m   1408\u001b[0m         corner_mask \u001b[38;5;241m=\u001b[39m mpl\u001b[38;5;241m.\u001b[39mrcParams[\u001b[38;5;124m'\u001b[39m\u001b[38;5;124mcontour.corner_mask\u001b[39m\u001b[38;5;124m'\u001b[39m]\n\u001b[0;32m   1409\u001b[0m \u001b[38;5;28mself\u001b[39m\u001b[38;5;241m.\u001b[39m_corner_mask \u001b[38;5;241m=\u001b[39m corner_mask\n\u001b[1;32m-> 1411\u001b[0m x, y, z \u001b[38;5;241m=\u001b[39m \u001b[38;5;28;43mself\u001b[39;49m\u001b[38;5;241;43m.\u001b[39;49m\u001b[43m_contour_args\u001b[49m\u001b[43m(\u001b[49m\u001b[43margs\u001b[49m\u001b[43m,\u001b[49m\u001b[43m \u001b[49m\u001b[43mkwargs\u001b[49m\u001b[43m)\u001b[49m\n\u001b[0;32m   1413\u001b[0m contour_generator \u001b[38;5;241m=\u001b[39m contourpy\u001b[38;5;241m.\u001b[39mcontour_generator(\n\u001b[0;32m   1414\u001b[0m     x, y, z, name\u001b[38;5;241m=\u001b[39m\u001b[38;5;28mself\u001b[39m\u001b[38;5;241m.\u001b[39m_algorithm, corner_mask\u001b[38;5;241m=\u001b[39m\u001b[38;5;28mself\u001b[39m\u001b[38;5;241m.\u001b[39m_corner_mask,\n\u001b[0;32m   1415\u001b[0m     line_type\u001b[38;5;241m=\u001b[39mcontourpy\u001b[38;5;241m.\u001b[39mLineType\u001b[38;5;241m.\u001b[39mSeparateCode,\n\u001b[0;32m   1416\u001b[0m     fill_type\u001b[38;5;241m=\u001b[39mcontourpy\u001b[38;5;241m.\u001b[39mFillType\u001b[38;5;241m.\u001b[39mOuterCode,\n\u001b[0;32m   1417\u001b[0m     chunk_size\u001b[38;5;241m=\u001b[39m\u001b[38;5;28mself\u001b[39m\u001b[38;5;241m.\u001b[39mnchunk)\n\u001b[0;32m   1419\u001b[0m t \u001b[38;5;241m=\u001b[39m \u001b[38;5;28mself\u001b[39m\u001b[38;5;241m.\u001b[39mget_transform()\n",
      "File \u001b[1;32mC:\\Python311\\Lib\\site-packages\\matplotlib\\contour.py:1453\u001b[0m, in \u001b[0;36mQuadContourSet._contour_args\u001b[1;34m(self, args, kwargs)\u001b[0m\n\u001b[0;32m   1451\u001b[0m \u001b[38;5;28;01melse\u001b[39;00m:\n\u001b[0;32m   1452\u001b[0m     \u001b[38;5;28;01mraise\u001b[39;00m _api\u001b[38;5;241m.\u001b[39mnargs_error(fn, takes\u001b[38;5;241m=\u001b[39m\u001b[38;5;124m\"\u001b[39m\u001b[38;5;124mfrom 1 to 4\u001b[39m\u001b[38;5;124m\"\u001b[39m, given\u001b[38;5;241m=\u001b[39mnargs)\n\u001b[1;32m-> 1453\u001b[0m z \u001b[38;5;241m=\u001b[39m \u001b[43mma\u001b[49m\u001b[38;5;241;43m.\u001b[39;49m\u001b[43mmasked_invalid\u001b[49m\u001b[43m(\u001b[49m\u001b[43mz\u001b[49m\u001b[43m,\u001b[49m\u001b[43m \u001b[49m\u001b[43mcopy\u001b[49m\u001b[38;5;241;43m=\u001b[39;49m\u001b[38;5;28;43;01mFalse\u001b[39;49;00m\u001b[43m)\u001b[49m\n\u001b[0;32m   1454\u001b[0m \u001b[38;5;28mself\u001b[39m\u001b[38;5;241m.\u001b[39mzmax \u001b[38;5;241m=\u001b[39m \u001b[38;5;28mfloat\u001b[39m(z\u001b[38;5;241m.\u001b[39mmax())\n\u001b[0;32m   1455\u001b[0m \u001b[38;5;28mself\u001b[39m\u001b[38;5;241m.\u001b[39mzmin \u001b[38;5;241m=\u001b[39m \u001b[38;5;28mfloat\u001b[39m(z\u001b[38;5;241m.\u001b[39mmin())\n",
      "File \u001b[1;32mC:\\Python311\\Lib\\site-packages\\numpy\\ma\\core.py:2360\u001b[0m, in \u001b[0;36mmasked_invalid\u001b[1;34m(a, copy)\u001b[0m\n\u001b[0;32m   2333\u001b[0m \u001b[38;5;250m\u001b[39m\u001b[38;5;124;03m\"\"\"\u001b[39;00m\n\u001b[0;32m   2334\u001b[0m \u001b[38;5;124;03mMask an array where invalid values occur (NaNs or infs).\u001b[39;00m\n\u001b[0;32m   2335\u001b[0m \n\u001b[1;32m   (...)\u001b[0m\n\u001b[0;32m   2357\u001b[0m \n\u001b[0;32m   2358\u001b[0m \u001b[38;5;124;03m\"\"\"\u001b[39;00m\n\u001b[0;32m   2359\u001b[0m a \u001b[38;5;241m=\u001b[39m np\u001b[38;5;241m.\u001b[39marray(a, copy\u001b[38;5;241m=\u001b[39m\u001b[38;5;28;01mFalse\u001b[39;00m, subok\u001b[38;5;241m=\u001b[39m\u001b[38;5;28;01mTrue\u001b[39;00m)\n\u001b[1;32m-> 2360\u001b[0m res \u001b[38;5;241m=\u001b[39m masked_where(\u001b[38;5;241m~\u001b[39m(\u001b[43mnp\u001b[49m\u001b[38;5;241;43m.\u001b[39;49m\u001b[43misfinite\u001b[49m\u001b[43m(\u001b[49m\u001b[43ma\u001b[49m\u001b[43m)\u001b[49m), a, copy\u001b[38;5;241m=\u001b[39mcopy)\n\u001b[0;32m   2361\u001b[0m \u001b[38;5;66;03m# masked_invalid previously never returned nomask as a mask and doing so\u001b[39;00m\n\u001b[0;32m   2362\u001b[0m \u001b[38;5;66;03m# threw off matplotlib (gh-22842).  So use shrink=False:\u001b[39;00m\n\u001b[0;32m   2363\u001b[0m \u001b[38;5;28;01mif\u001b[39;00m res\u001b[38;5;241m.\u001b[39m_mask \u001b[38;5;129;01mis\u001b[39;00m nomask:\n",
      "\u001b[1;31mTypeError\u001b[0m: ufunc 'isfinite' not supported for the input types, and the inputs could not be safely coerced to any supported types according to the casting rule ''safe''"
     ]
    },
    {
     "data": {
      "image/png": "[encoded data removed]",
      "text/plain": [
       "<Figure size 640x480 with 1 Axes>"
      ]
     },
     "metadata": {},
     "output_type": "display_data"
    }
   ],
   "source": [
    "from matplotlib.colors import ListedColormap\n",
    "X_set, y_set = X_train, y_train\n",
    "X1, X2 = np.meshgrid(np.arange(start = X_set[:, 0].min() - 1, stop = X_set[:, 0].max() + 1, step = 0.01),\n",
    "                     np.arange(start = X_set[:, 1].min() - 1, stop = X_set[:, 1].max() + 1, step = 0.01))\n",
    "plt.contourf(X1, X2, classifier.predict(np.array([X1.ravel(), X2.ravel()]).T).reshape(X1.shape),\n",
    "             alpha = 0.75, cmap = ListedColormap(('red', 'green')))\n",
    "plt.xlim(X1.min(), X1.max())\n",
    "plt.ylim(X2.min(), X2.max())\n",
    "for i, j in enumerate(np.unique(y_set)):\n",
    "    plt.scatter(X_set[y_set == j, 0], X_set[y_set == j, 1],\n",
    "                c = ListedColormap(('red', 'green'))(i), label = j)\n",
    "plt.title('Naive Bayes (Training set)')\n",
    "plt.xlabel('Deaths')\n",
    "plt.ylabel('Recovered')\n",
    "plt.legend()\n",
    "plt.show()\n"
   ]
  },
  {
   "cell_type": "code",
   "execution_count": 20,
   "id": "822d7fc0",
   "metadata": {},
   "outputs": [
    {
     "ename": "TypeError",
     "evalue": "ufunc 'isfinite' not supported for the input types, and the inputs could not be safely coerced to any supported types according to the casting rule ''safe''",
     "output_type": "error",
     "traceback": [
      "\u001b[1;31m---------------------------------------------------------------------------\u001b[0m",
      "\u001b[1;31mTypeError\u001b[0m                                 Traceback (most recent call last)",
      "Cell \u001b[1;32mIn[20], line 5\u001b[0m\n\u001b[0;32m      2\u001b[0m X_set, y_set \u001b[38;5;241m=\u001b[39m X_test, y_test\n\u001b[0;32m      3\u001b[0m X1, X2 \u001b[38;5;241m=\u001b[39m np\u001b[38;5;241m.\u001b[39mmeshgrid(np\u001b[38;5;241m.\u001b[39marange(start \u001b[38;5;241m=\u001b[39m X_set[:, \u001b[38;5;241m0\u001b[39m]\u001b[38;5;241m.\u001b[39mmin() \u001b[38;5;241m-\u001b[39m \u001b[38;5;241m1\u001b[39m, stop \u001b[38;5;241m=\u001b[39m X_set[:, \u001b[38;5;241m0\u001b[39m]\u001b[38;5;241m.\u001b[39mmax() \u001b[38;5;241m+\u001b[39m \u001b[38;5;241m1\u001b[39m, step \u001b[38;5;241m=\u001b[39m \u001b[38;5;241m0.01\u001b[39m),\n\u001b[0;32m      4\u001b[0m                      np\u001b[38;5;241m.\u001b[39marange(start \u001b[38;5;241m=\u001b[39m X_set[:, \u001b[38;5;241m1\u001b[39m]\u001b[38;5;241m.\u001b[39mmin() \u001b[38;5;241m-\u001b[39m \u001b[38;5;241m1\u001b[39m, stop \u001b[38;5;241m=\u001b[39m X_set[:, \u001b[38;5;241m1\u001b[39m]\u001b[38;5;241m.\u001b[39mmax() \u001b[38;5;241m+\u001b[39m \u001b[38;5;241m1\u001b[39m, step \u001b[38;5;241m=\u001b[39m \u001b[38;5;241m0.01\u001b[39m))\n\u001b[1;32m----> 5\u001b[0m \u001b[43mplt\u001b[49m\u001b[38;5;241;43m.\u001b[39;49m\u001b[43mcontourf\u001b[49m\u001b[43m(\u001b[49m\u001b[43mX1\u001b[49m\u001b[43m,\u001b[49m\u001b[43m \u001b[49m\u001b[43mX2\u001b[49m\u001b[43m,\u001b[49m\u001b[43m \u001b[49m\u001b[43mclassifier\u001b[49m\u001b[38;5;241;43m.\u001b[39;49m\u001b[43mpredict\u001b[49m\u001b[43m(\u001b[49m\u001b[43mnp\u001b[49m\u001b[38;5;241;43m.\u001b[39;49m\u001b[43marray\u001b[49m\u001b[43m(\u001b[49m\u001b[43m[\u001b[49m\u001b[43mX1\u001b[49m\u001b[38;5;241;43m.\u001b[39;49m\u001b[43mravel\u001b[49m\u001b[43m(\u001b[49m\u001b[43m)\u001b[49m\u001b[43m,\u001b[49m\u001b[43m \u001b[49m\u001b[43mX2\u001b[49m\u001b[38;5;241;43m.\u001b[39;49m\u001b[43mravel\u001b[49m\u001b[43m(\u001b[49m\u001b[43m)\u001b[49m\u001b[43m]\u001b[49m\u001b[43m)\u001b[49m\u001b[38;5;241;43m.\u001b[39;49m\u001b[43mT\u001b[49m\u001b[43m)\u001b[49m\u001b[38;5;241;43m.\u001b[39;49m\u001b[43mreshape\u001b[49m\u001b[43m(\u001b[49m\u001b[43mX1\u001b[49m\u001b[38;5;241;43m.\u001b[39;49m\u001b[43mshape\u001b[49m\u001b[43m)\u001b[49m\u001b[43m,\u001b[49m\n\u001b[0;32m      6\u001b[0m \u001b[43m             \u001b[49m\u001b[43malpha\u001b[49m\u001b[43m \u001b[49m\u001b[38;5;241;43m=\u001b[39;49m\u001b[43m \u001b[49m\u001b[38;5;241;43m0.75\u001b[39;49m\u001b[43m,\u001b[49m\u001b[43m \u001b[49m\u001b[43mcmap\u001b[49m\u001b[43m \u001b[49m\u001b[38;5;241;43m=\u001b[39;49m\u001b[43m \u001b[49m\u001b[43mListedColormap\u001b[49m\u001b[43m(\u001b[49m\u001b[43m(\u001b[49m\u001b[38;5;124;43m'\u001b[39;49m\u001b[38;5;124;43mred\u001b[39;49m\u001b[38;5;124;43m'\u001b[39;49m\u001b[43m,\u001b[49m\u001b[43m \u001b[49m\u001b[38;5;124;43m'\u001b[39;49m\u001b[38;5;124;43mgreen\u001b[39;49m\u001b[38;5;124;43m'\u001b[39;49m\u001b[43m)\u001b[49m\u001b[43m)\u001b[49m\u001b[43m)\u001b[49m\n\u001b[0;32m      7\u001b[0m plt\u001b[38;5;241m.\u001b[39mxlim(X1\u001b[38;5;241m.\u001b[39mmin(), X1\u001b[38;5;241m.\u001b[39mmax())\n\u001b[0;32m      8\u001b[0m plt\u001b[38;5;241m.\u001b[39mylim(X2\u001b[38;5;241m.\u001b[39mmin(), X2\u001b[38;5;241m.\u001b[39mmax())\n",
      "File \u001b[1;32mC:\\Python311\\Lib\\site-packages\\matplotlib\\pyplot.py:2537\u001b[0m, in \u001b[0;36mcontourf\u001b[1;34m(data, *args, **kwargs)\u001b[0m\n\u001b[0;32m   2535\u001b[0m \u001b[38;5;129m@_copy_docstring_and_deprecators\u001b[39m(Axes\u001b[38;5;241m.\u001b[39mcontourf)\n\u001b[0;32m   2536\u001b[0m \u001b[38;5;28;01mdef\u001b[39;00m \u001b[38;5;21mcontourf\u001b[39m(\u001b[38;5;241m*\u001b[39margs, data\u001b[38;5;241m=\u001b[39m\u001b[38;5;28;01mNone\u001b[39;00m, \u001b[38;5;241m*\u001b[39m\u001b[38;5;241m*\u001b[39mkwargs):\n\u001b[1;32m-> 2537\u001b[0m     __ret \u001b[38;5;241m=\u001b[39m \u001b[43mgca\u001b[49m\u001b[43m(\u001b[49m\u001b[43m)\u001b[49m\u001b[38;5;241;43m.\u001b[39;49m\u001b[43mcontourf\u001b[49m\u001b[43m(\u001b[49m\n\u001b[0;32m   2538\u001b[0m \u001b[43m        \u001b[49m\u001b[38;5;241;43m*\u001b[39;49m\u001b[43margs\u001b[49m\u001b[43m,\u001b[49m\u001b[43m \u001b[49m\u001b[38;5;241;43m*\u001b[39;49m\u001b[38;5;241;43m*\u001b[39;49m\u001b[43m(\u001b[49m\u001b[43m{\u001b[49m\u001b[38;5;124;43m\"\u001b[39;49m\u001b[38;5;124;43mdata\u001b[39;49m\u001b[38;5;124;43m\"\u001b[39;49m\u001b[43m:\u001b[49m\u001b[43m \u001b[49m\u001b[43mdata\u001b[49m\u001b[43m}\u001b[49m\u001b[43m \u001b[49m\u001b[38;5;28;43;01mif\u001b[39;49;00m\u001b[43m \u001b[49m\u001b[43mdata\u001b[49m\u001b[43m \u001b[49m\u001b[38;5;129;43;01mis\u001b[39;49;00m\u001b[43m \u001b[49m\u001b[38;5;129;43;01mnot\u001b[39;49;00m\u001b[43m \u001b[49m\u001b[38;5;28;43;01mNone\u001b[39;49;00m\u001b[43m \u001b[49m\u001b[38;5;28;43;01melse\u001b[39;49;00m\u001b[43m \u001b[49m\u001b[43m{\u001b[49m\u001b[43m}\u001b[49m\u001b[43m)\u001b[49m\u001b[43m,\u001b[49m\n\u001b[0;32m   2539\u001b[0m \u001b[43m        \u001b[49m\u001b[38;5;241;43m*\u001b[39;49m\u001b[38;5;241;43m*\u001b[39;49m\u001b[43mkwargs\u001b[49m\u001b[43m)\u001b[49m\n\u001b[0;32m   2540\u001b[0m     \u001b[38;5;28;01mif\u001b[39;00m __ret\u001b[38;5;241m.\u001b[39m_A \u001b[38;5;129;01mis\u001b[39;00m \u001b[38;5;129;01mnot\u001b[39;00m \u001b[38;5;28;01mNone\u001b[39;00m: sci(__ret)  \u001b[38;5;66;03m# noqa\u001b[39;00m\n\u001b[0;32m   2541\u001b[0m     \u001b[38;5;28;01mreturn\u001b[39;00m __ret\n",
      "File \u001b[1;32mC:\\Python311\\Lib\\site-packages\\matplotlib\\__init__.py:1459\u001b[0m, in \u001b[0;36m_preprocess_data.<locals>.inner\u001b[1;34m(ax, data, *args, **kwargs)\u001b[0m\n\u001b[0;32m   1456\u001b[0m \u001b[38;5;129m@functools\u001b[39m\u001b[38;5;241m.\u001b[39mwraps(func)\n\u001b[0;32m   1457\u001b[0m \u001b[38;5;28;01mdef\u001b[39;00m \u001b[38;5;21minner\u001b[39m(ax, \u001b[38;5;241m*\u001b[39margs, data\u001b[38;5;241m=\u001b[39m\u001b[38;5;28;01mNone\u001b[39;00m, \u001b[38;5;241m*\u001b[39m\u001b[38;5;241m*\u001b[39mkwargs):\n\u001b[0;32m   1458\u001b[0m     \u001b[38;5;28;01mif\u001b[39;00m data \u001b[38;5;129;01mis\u001b[39;00m \u001b[38;5;28;01mNone\u001b[39;00m:\n\u001b[1;32m-> 1459\u001b[0m         \u001b[38;5;28;01mreturn\u001b[39;00m \u001b[43mfunc\u001b[49m\u001b[43m(\u001b[49m\u001b[43max\u001b[49m\u001b[43m,\u001b[49m\u001b[43m \u001b[49m\u001b[38;5;241;43m*\u001b[39;49m\u001b[38;5;28;43mmap\u001b[39;49m\u001b[43m(\u001b[49m\u001b[43msanitize_sequence\u001b[49m\u001b[43m,\u001b[49m\u001b[43m \u001b[49m\u001b[43margs\u001b[49m\u001b[43m)\u001b[49m\u001b[43m,\u001b[49m\u001b[43m \u001b[49m\u001b[38;5;241;43m*\u001b[39;49m\u001b[38;5;241;43m*\u001b[39;49m\u001b[43mkwargs\u001b[49m\u001b[43m)\u001b[49m\n\u001b[0;32m   1461\u001b[0m     bound \u001b[38;5;241m=\u001b[39m new_sig\u001b[38;5;241m.\u001b[39mbind(ax, \u001b[38;5;241m*\u001b[39margs, \u001b[38;5;241m*\u001b[39m\u001b[38;5;241m*\u001b[39mkwargs)\n\u001b[0;32m   1462\u001b[0m     auto_label \u001b[38;5;241m=\u001b[39m (bound\u001b[38;5;241m.\u001b[39marguments\u001b[38;5;241m.\u001b[39mget(label_namer)\n\u001b[0;32m   1463\u001b[0m                   \u001b[38;5;129;01mor\u001b[39;00m bound\u001b[38;5;241m.\u001b[39mkwargs\u001b[38;5;241m.\u001b[39mget(label_namer))\n",
      "File \u001b[1;32mC:\\Python311\\Lib\\site-packages\\matplotlib\\axes\\_axes.py:6467\u001b[0m, in \u001b[0;36mAxes.contourf\u001b[1;34m(self, *args, **kwargs)\u001b[0m\n\u001b[0;32m   6458\u001b[0m \u001b[38;5;250m\u001b[39m\u001b[38;5;124;03m\"\"\"\u001b[39;00m\n\u001b[0;32m   6459\u001b[0m \u001b[38;5;124;03mPlot filled contours.\u001b[39;00m\n\u001b[0;32m   6460\u001b[0m \n\u001b[1;32m   (...)\u001b[0m\n\u001b[0;32m   6464\u001b[0m \u001b[38;5;124;03m%(contour_doc)s\u001b[39;00m\n\u001b[0;32m   6465\u001b[0m \u001b[38;5;124;03m\"\"\"\u001b[39;00m\n\u001b[0;32m   6466\u001b[0m kwargs[\u001b[38;5;124m'\u001b[39m\u001b[38;5;124mfilled\u001b[39m\u001b[38;5;124m'\u001b[39m] \u001b[38;5;241m=\u001b[39m \u001b[38;5;28;01mTrue\u001b[39;00m\n\u001b[1;32m-> 6467\u001b[0m contours \u001b[38;5;241m=\u001b[39m \u001b[43mmcontour\u001b[49m\u001b[38;5;241;43m.\u001b[39;49m\u001b[43mQuadContourSet\u001b[49m\u001b[43m(\u001b[49m\u001b[38;5;28;43mself\u001b[39;49m\u001b[43m,\u001b[49m\u001b[43m \u001b[49m\u001b[38;5;241;43m*\u001b[39;49m\u001b[43margs\u001b[49m\u001b[43m,\u001b[49m\u001b[43m \u001b[49m\u001b[38;5;241;43m*\u001b[39;49m\u001b[38;5;241;43m*\u001b[39;49m\u001b[43mkwargs\u001b[49m\u001b[43m)\u001b[49m\n\u001b[0;32m   6468\u001b[0m \u001b[38;5;28mself\u001b[39m\u001b[38;5;241m.\u001b[39m_request_autoscale_view()\n\u001b[0;32m   6469\u001b[0m \u001b[38;5;28;01mreturn\u001b[39;00m contours\n",
      "File \u001b[1;32mC:\\Python311\\Lib\\site-packages\\matplotlib\\contour.py:769\u001b[0m, in \u001b[0;36mContourSet.__init__\u001b[1;34m(self, ax, levels, filled, linewidths, linestyles, hatches, alpha, origin, extent, cmap, colors, norm, vmin, vmax, extend, antialiased, nchunk, locator, transform, negative_linestyles, *args, **kwargs)\u001b[0m\n\u001b[0;32m    765\u001b[0m \u001b[38;5;28;01mif\u001b[39;00m \u001b[38;5;28mself\u001b[39m\u001b[38;5;241m.\u001b[39mnegative_linestyles \u001b[38;5;129;01mis\u001b[39;00m \u001b[38;5;28;01mNone\u001b[39;00m:\n\u001b[0;32m    766\u001b[0m     \u001b[38;5;28mself\u001b[39m\u001b[38;5;241m.\u001b[39mnegative_linestyles \u001b[38;5;241m=\u001b[39m \\\n\u001b[0;32m    767\u001b[0m         mpl\u001b[38;5;241m.\u001b[39mrcParams[\u001b[38;5;124m'\u001b[39m\u001b[38;5;124mcontour.negative_linestyle\u001b[39m\u001b[38;5;124m'\u001b[39m]\n\u001b[1;32m--> 769\u001b[0m kwargs \u001b[38;5;241m=\u001b[39m \u001b[38;5;28;43mself\u001b[39;49m\u001b[38;5;241;43m.\u001b[39;49m\u001b[43m_process_args\u001b[49m\u001b[43m(\u001b[49m\u001b[38;5;241;43m*\u001b[39;49m\u001b[43margs\u001b[49m\u001b[43m,\u001b[49m\u001b[43m \u001b[49m\u001b[38;5;241;43m*\u001b[39;49m\u001b[38;5;241;43m*\u001b[39;49m\u001b[43mkwargs\u001b[49m\u001b[43m)\u001b[49m\n\u001b[0;32m    770\u001b[0m \u001b[38;5;28mself\u001b[39m\u001b[38;5;241m.\u001b[39m_process_levels()\n\u001b[0;32m    772\u001b[0m \u001b[38;5;28mself\u001b[39m\u001b[38;5;241m.\u001b[39m_extend_min \u001b[38;5;241m=\u001b[39m \u001b[38;5;28mself\u001b[39m\u001b[38;5;241m.\u001b[39mextend \u001b[38;5;129;01min\u001b[39;00m [\u001b[38;5;124m'\u001b[39m\u001b[38;5;124mmin\u001b[39m\u001b[38;5;124m'\u001b[39m, \u001b[38;5;124m'\u001b[39m\u001b[38;5;124mboth\u001b[39m\u001b[38;5;124m'\u001b[39m]\n",
      "File \u001b[1;32mC:\\Python311\\Lib\\site-packages\\matplotlib\\contour.py:1411\u001b[0m, in \u001b[0;36mQuadContourSet._process_args\u001b[1;34m(self, corner_mask, algorithm, *args, **kwargs)\u001b[0m\n\u001b[0;32m   1408\u001b[0m         corner_mask \u001b[38;5;241m=\u001b[39m mpl\u001b[38;5;241m.\u001b[39mrcParams[\u001b[38;5;124m'\u001b[39m\u001b[38;5;124mcontour.corner_mask\u001b[39m\u001b[38;5;124m'\u001b[39m]\n\u001b[0;32m   1409\u001b[0m \u001b[38;5;28mself\u001b[39m\u001b[38;5;241m.\u001b[39m_corner_mask \u001b[38;5;241m=\u001b[39m corner_mask\n\u001b[1;32m-> 1411\u001b[0m x, y, z \u001b[38;5;241m=\u001b[39m \u001b[38;5;28;43mself\u001b[39;49m\u001b[38;5;241;43m.\u001b[39;49m\u001b[43m_contour_args\u001b[49m\u001b[43m(\u001b[49m\u001b[43margs\u001b[49m\u001b[43m,\u001b[49m\u001b[43m \u001b[49m\u001b[43mkwargs\u001b[49m\u001b[43m)\u001b[49m\n\u001b[0;32m   1413\u001b[0m contour_generator \u001b[38;5;241m=\u001b[39m contourpy\u001b[38;5;241m.\u001b[39mcontour_generator(\n\u001b[0;32m   1414\u001b[0m     x, y, z, name\u001b[38;5;241m=\u001b[39m\u001b[38;5;28mself\u001b[39m\u001b[38;5;241m.\u001b[39m_algorithm, corner_mask\u001b[38;5;241m=\u001b[39m\u001b[38;5;28mself\u001b[39m\u001b[38;5;241m.\u001b[39m_corner_mask,\n\u001b[0;32m   1415\u001b[0m     line_type\u001b[38;5;241m=\u001b[39mcontourpy\u001b[38;5;241m.\u001b[39mLineType\u001b[38;5;241m.\u001b[39mSeparateCode,\n\u001b[0;32m   1416\u001b[0m     fill_type\u001b[38;5;241m=\u001b[39mcontourpy\u001b[38;5;241m.\u001b[39mFillType\u001b[38;5;241m.\u001b[39mOuterCode,\n\u001b[0;32m   1417\u001b[0m     chunk_size\u001b[38;5;241m=\u001b[39m\u001b[38;5;28mself\u001b[39m\u001b[38;5;241m.\u001b[39mnchunk)\n\u001b[0;32m   1419\u001b[0m t \u001b[38;5;241m=\u001b[39m \u001b[38;5;28mself\u001b[39m\u001b[38;5;241m.\u001b[39mget_transform()\n",
      "File \u001b[1;32mC:\\Python311\\Lib\\site-packages\\matplotlib\\contour.py:1453\u001b[0m, in \u001b[0;36mQuadContourSet._contour_args\u001b[1;34m(self, args, kwargs)\u001b[0m\n\u001b[0;32m   1451\u001b[0m \u001b[38;5;28;01melse\u001b[39;00m:\n\u001b[0;32m   1452\u001b[0m     \u001b[38;5;28;01mraise\u001b[39;00m _api\u001b[38;5;241m.\u001b[39mnargs_error(fn, takes\u001b[38;5;241m=\u001b[39m\u001b[38;5;124m\"\u001b[39m\u001b[38;5;124mfrom 1 to 4\u001b[39m\u001b[38;5;124m\"\u001b[39m, given\u001b[38;5;241m=\u001b[39mnargs)\n\u001b[1;32m-> 1453\u001b[0m z \u001b[38;5;241m=\u001b[39m \u001b[43mma\u001b[49m\u001b[38;5;241;43m.\u001b[39;49m\u001b[43mmasked_invalid\u001b[49m\u001b[43m(\u001b[49m\u001b[43mz\u001b[49m\u001b[43m,\u001b[49m\u001b[43m \u001b[49m\u001b[43mcopy\u001b[49m\u001b[38;5;241;43m=\u001b[39;49m\u001b[38;5;28;43;01mFalse\u001b[39;49;00m\u001b[43m)\u001b[49m\n\u001b[0;32m   1454\u001b[0m \u001b[38;5;28mself\u001b[39m\u001b[38;5;241m.\u001b[39mzmax \u001b[38;5;241m=\u001b[39m \u001b[38;5;28mfloat\u001b[39m(z\u001b[38;5;241m.\u001b[39mmax())\n\u001b[0;32m   1455\u001b[0m \u001b[38;5;28mself\u001b[39m\u001b[38;5;241m.\u001b[39mzmin \u001b[38;5;241m=\u001b[39m \u001b[38;5;28mfloat\u001b[39m(z\u001b[38;5;241m.\u001b[39mmin())\n",
      "File \u001b[1;32mC:\\Python311\\Lib\\site-packages\\numpy\\ma\\core.py:2360\u001b[0m, in \u001b[0;36mmasked_invalid\u001b[1;34m(a, copy)\u001b[0m\n\u001b[0;32m   2333\u001b[0m \u001b[38;5;250m\u001b[39m\u001b[38;5;124;03m\"\"\"\u001b[39;00m\n\u001b[0;32m   2334\u001b[0m \u001b[38;5;124;03mMask an array where invalid values occur (NaNs or infs).\u001b[39;00m\n\u001b[0;32m   2335\u001b[0m \n\u001b[1;32m   (...)\u001b[0m\n\u001b[0;32m   2357\u001b[0m \n\u001b[0;32m   2358\u001b[0m \u001b[38;5;124;03m\"\"\"\u001b[39;00m\n\u001b[0;32m   2359\u001b[0m a \u001b[38;5;241m=\u001b[39m np\u001b[38;5;241m.\u001b[39marray(a, copy\u001b[38;5;241m=\u001b[39m\u001b[38;5;28;01mFalse\u001b[39;00m, subok\u001b[38;5;241m=\u001b[39m\u001b[38;5;28;01mTrue\u001b[39;00m)\n\u001b[1;32m-> 2360\u001b[0m res \u001b[38;5;241m=\u001b[39m masked_where(\u001b[38;5;241m~\u001b[39m(\u001b[43mnp\u001b[49m\u001b[38;5;241;43m.\u001b[39;49m\u001b[43misfinite\u001b[49m\u001b[43m(\u001b[49m\u001b[43ma\u001b[49m\u001b[43m)\u001b[49m), a, copy\u001b[38;5;241m=\u001b[39mcopy)\n\u001b[0;32m   2361\u001b[0m \u001b[38;5;66;03m# masked_invalid previously never returned nomask as a mask and doing so\u001b[39;00m\n\u001b[0;32m   2362\u001b[0m \u001b[38;5;66;03m# threw off matplotlib (gh-22842).  So use shrink=False:\u001b[39;00m\n\u001b[0;32m   2363\u001b[0m \u001b[38;5;28;01mif\u001b[39;00m res\u001b[38;5;241m.\u001b[39m_mask \u001b[38;5;129;01mis\u001b[39;00m nomask:\n",
      "\u001b[1;31mTypeError\u001b[0m: ufunc 'isfinite' not supported for the input types, and the inputs could not be safely coerced to any supported types according to the casting rule ''safe''"
     ]
    },
    {
     "data": {
      "image/png": "[encoded data removed]",
      "text/plain": [
       "<Figure size 640x480 with 1 Axes>"
      ]
     },
     "metadata": {},
     "output_type": "display_data"
    }
   ],
   "source": [
    "from matplotlib.colors import ListedColormap\n",
    "X_set, y_set = X_test, y_test\n",
    "X1, X2 = np.meshgrid(np.arange(start = X_set[:, 0].min() - 1, stop = X_set[:, 0].max() + 1, step = 0.01),\n",
    "                     np.arange(start = X_set[:, 1].min() - 1, stop = X_set[:, 1].max() + 1, step = 0.01))\n",
    "plt.contourf(X1, X2, classifier.predict(np.array([X1.ravel(), X2.ravel()]).T).reshape(X1.shape),\n",
    "             alpha = 0.75, cmap = ListedColormap(('red', 'green')))\n",
    "plt.xlim(X1.min(), X1.max())\n",
    "plt.ylim(X2.min(), X2.max())\n",
    "for i, j in enumerate(np.unique(y_set)):\n",
    "    plt.scatter(X_set[y_set == j, 0], X_set[y_set == j, 1],\n",
    "                c = ListedColormap(('red', 'green'))(i), label = j)\n",
    "plt.title('Naive Bayes (Test set)')\n",
    "plt.xlabel('Deaths')\n",
    "plt.ylabel('Recovered')\n",
    "plt.legend()\n",
    "plt.show()"
   ]
  },
  {
   "cell_type": "code",
   "execution_count": null,
   "id": "39e25009",
   "metadata": {},
   "outputs": [],
   "source": []
  }
 ],
 "metadata": {
  "kernelspec": {
   "display_name": "Python 3 (ipykernel)",
   "language": "python",
   "name": "python3"
  },
  "language_info": {
   "codemirror_mode": {
    "name": "ipython",
    "version": 3
   },
   "file_extension": ".py",
   "mimetype": "text/x-python",
   "name": "python",
   "nbconvert_exporter": "python",
   "pygments_lexer": "ipython3",
   "version": "3.11.2"
  }
 },
 "nbformat": 4,
 "nbformat_minor": 5
}
